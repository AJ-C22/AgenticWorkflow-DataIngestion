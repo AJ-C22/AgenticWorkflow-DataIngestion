{
 "cells": [
  {
   "cell_type": "code",
   "execution_count": 31,
   "metadata": {},
   "outputs": [],
   "source": [
    "import pandas as pd\n",
    "from sklearn.model_selection import train_test_split\n",
    "from sklearn.feature_extraction.text import TfidfVectorizer\n",
    "from sklearn.linear_model import LogisticRegression\n",
    "from sklearn.metrics import classification_report, accuracy_score\n",
    "from sklearn.pipeline import Pipeline"
   ]
  },
  {
   "cell_type": "code",
   "execution_count": 32,
   "metadata": {},
   "outputs": [],
   "source": [
    "permit_types_to_keep = [\n",
    "    'unincorporated building residential',\n",
    "    'road',\n",
    "    'unincorporated electrical',\n",
    "    'unincorporated mechanical'\n",
    "]\n",
    "df_clean = pd.read_csv(\"permit_data_cleaned.csv\")\n",
    "df_filtered = df_clean[df_clean['PERMITTYPE'].isin(permit_types_to_keep)].copy()\n",
    "df_filtered.to_csv(\"permit_data_filtered.csv\", index=False)"
   ]
  },
  {
   "cell_type": "code",
   "execution_count": 33,
   "metadata": {},
   "outputs": [],
   "source": [
    "DATA_FILE = \"permit_data_filtered.csv\"\n",
    "TEXT_COLUMN = \"DESCRIPTION\"\n",
    "TARGET_COLUMN = \"PERMITTYPE\"\n",
    "TEST_SIZE = 0.2 \n",
    "RANDOM_STATE = 42"
   ]
  },
  {
   "cell_type": "code",
   "execution_count": 34,
   "metadata": {},
   "outputs": [
    {
     "name": "stdout",
     "output_type": "stream",
     "text": [
      "Loading data from permit_data_filtered.csv...\n",
      "Loaded 57979 rows.\n",
      "Target variable distribution:\n",
      "PERMITTYPE\n",
      "road                                   23438\n",
      "unincorporated building residential    15497\n",
      "unincorporated electrical              11236\n",
      "unincorporated mechanical               7808\n",
      "Name: count, dtype: int64\n"
     ]
    }
   ],
   "source": [
    "print(f\"Loading data from {DATA_FILE}...\")\n",
    "try:\n",
    "    df = pd.read_csv(DATA_FILE)\n",
    "    df[TEXT_COLUMN] = df[TEXT_COLUMN].fillna('')\n",
    "    print(f\"Loaded {len(df)} rows.\")\n",
    "    print(\"Target variable distribution:\")\n",
    "    print(df[TARGET_COLUMN].value_counts())\n",
    "except FileNotFoundError:\n",
    "    print(f\"Error: Data file '{DATA_FILE}' not found. Please run cleaning script first.\")\n",
    "    exit()\n",
    "except Exception as e:\n",
    "    print(f\"Error loading data: {e}\")\n",
    "    exit()\n",
    "\n",
    "if df.empty:\n",
    "    print(\"Error: DataFrame is empty after loading. Cannot train model.\")\n",
    "    exit()"
   ]
  },
  {
   "cell_type": "code",
   "execution_count": 35,
   "metadata": {},
   "outputs": [],
   "source": [
    "X = df[TEXT_COLUMN]\n",
    "y = df[TARGET_COLUMN]"
   ]
  },
  {
   "cell_type": "code",
   "execution_count": 36,
   "metadata": {},
   "outputs": [
    {
     "name": "stdout",
     "output_type": "stream",
     "text": [
      "Training set size: 46383\n",
      "Test set size: 11596\n",
      "Building model pipeline (TF-IDF Vectorizer -> Logistic Regression)...\n"
     ]
    }
   ],
   "source": [
    "X_train, X_test, y_train, y_test = train_test_split(\n",
    "    X, y, test_size=TEST_SIZE, random_state=RANDOM_STATE, stratify=y # stratify helps maintain class proportions\n",
    ")\n",
    "\n",
    "print(f\"Training set size: {len(X_train)}\")\n",
    "print(f\"Test set size: {len(X_test)}\")\n",
    "\n",
    "# --- Build Model Pipeline ---\n",
    "print(\"Building model pipeline (TF-IDF Vectorizer -> Logistic Regression)...\")\n",
    "pipeline = Pipeline([\n",
    "    ('tfidf', TfidfVectorizer(max_features=5000, \n",
    "                             ngram_range=(1, 2), #\n",
    "                             stop_words='english')), \n",
    "    ('clf', LogisticRegression(max_iter=1000, random_state=RANDOM_STATE)) \n",
    "])"
   ]
  },
  {
   "cell_type": "code",
   "execution_count": 37,
   "metadata": {},
   "outputs": [
    {
     "name": "stdout",
     "output_type": "stream",
     "text": [
      "Training model...\n",
      "Training complete.\n"
     ]
    }
   ],
   "source": [
    "print(\"Training model...\")\n",
    "try:\n",
    "    pipeline.fit(X_train, y_train)\n",
    "    print(\"Training complete.\")\n",
    "except Exception as e:\n",
    "    print(f\"Error during model training: {e}\")\n",
    "    print(\"\\nTraining target variable distribution:\")\n",
    "    print(y_train.value_counts())\n",
    "    exit()"
   ]
  },
  {
   "cell_type": "code",
   "execution_count": 38,
   "metadata": {},
   "outputs": [
    {
     "name": "stdout",
     "output_type": "stream",
     "text": [
      "\n",
      "Evaluating model on the test set...\n"
     ]
    }
   ],
   "source": [
    "print(\"\\nEvaluating model on the test set...\")\n",
    "y_pred = pipeline.predict(X_test)"
   ]
  },
  {
   "cell_type": "code",
   "execution_count": 39,
   "metadata": {},
   "outputs": [
    {
     "name": "stdout",
     "output_type": "stream",
     "text": [
      "Accuracy: 0.9257\n",
      "\n",
      "Classification Report:\n",
      "                                     precision    recall  f1-score   support\n",
      "\n",
      "                               road       0.98      1.00      0.99      4688\n",
      "unincorporated building residential       0.87      0.97      0.91      3099\n",
      "          unincorporated electrical       0.93      0.79      0.86      2247\n",
      "          unincorporated mechanical       0.87      0.82      0.84      1562\n",
      "\n",
      "                           accuracy                           0.93     11596\n",
      "                          macro avg       0.91      0.89      0.90     11596\n",
      "                       weighted avg       0.93      0.93      0.92     11596\n",
      "\n"
     ]
    }
   ],
   "source": [
    "accuracy = accuracy_score(y_test, y_pred)\n",
    "print(f\"Accuracy: {accuracy:.4f}\")\n",
    "\n",
    "print(\"\\nClassification Report:\")\n",
    "try:\n",
    "    labels = sorted(list(set(y_test) | set(y_pred)))\n",
    "    print(classification_report(y_test, y_pred, labels=labels, zero_division=0))\n",
    "except Exception as e:\n",
    "     print(f\"Could not generate classification report: {e}\")"
   ]
  },
  {
   "cell_type": "code",
   "execution_count": 41,
   "metadata": {},
   "outputs": [
    {
     "name": "stdout",
     "output_type": "stream",
     "text": [
      "\n",
      "Example predictions for: ['voluntary seismic retrofit work is to be performed in accordance with la city standard plan']\n",
      "\n",
      "['unincorporated building residential']\n"
     ]
    }
   ],
   "source": [
    "new_descriptions = [\"voluntary seismic retrofit work is to be performed in accordance with la city standard plan\"]\n",
    "predictions = pipeline.predict(new_descriptions)\n",
    "print(f\"\\nExample predictions for: {new_descriptions}\")\n",
    "print()\n",
    "print(predictions)"
   ]
  }
 ],
 "metadata": {
  "kernelspec": {
   "display_name": "Python 3",
   "language": "python",
   "name": "python3"
  },
  "language_info": {
   "codemirror_mode": {
    "name": "ipython",
    "version": 3
   },
   "file_extension": ".py",
   "mimetype": "text/x-python",
   "name": "python",
   "nbconvert_exporter": "python",
   "pygments_lexer": "ipython3",
   "version": "3.13.1"
  }
 },
 "nbformat": 4,
 "nbformat_minor": 2
}
